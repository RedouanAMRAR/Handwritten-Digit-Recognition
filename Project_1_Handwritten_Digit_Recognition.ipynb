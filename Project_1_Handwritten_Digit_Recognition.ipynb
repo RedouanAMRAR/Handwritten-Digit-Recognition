{
  "nbformat": 4,
  "nbformat_minor": 0,
  "metadata": {
    "colab": {
      "provenance": []
    },
    "kernelspec": {
      "name": "python3",
      "display_name": "Python 3"
    },
    "language_info": {
      "name": "python"
    }
  },
  "cells": [
    {
      "cell_type": "markdown",
      "source": [
        "# Handwritten Digit Recognition Project 🚀\n",
        "\n",
        "Welcome to our exciting journey into the world of Deep Learning! In this project, you'll dive into the fascinating realm of handwritten digit recognition using PyTorch, one of the most popular machine learning libraries. 🧠💻\n",
        "\n",
        "## Project Overview 📝\n",
        "\n",
        "Your mission, should you choose to accept it, involves building and optimizing a PyTorch model to recognize handwritten digits from the MNIST dataset. This dataset is like the 'Hello World' of machine learning, perfect for beginners and yet intriguing for experienced coders. 🌟\n",
        "\n",
        "## Learning Objectives 🎯\n",
        "\n",
        "- **Understanding PyTorch**: Get hands-on experience with PyTorch, understanding its basic operations and how to build models with it.\n",
        "- **Model Optimization**: Explore various training optimization techniques such as adding dropout layers, implementing regularizers, and utilizing early stopping to enhance model performance.\n",
        "- **Experimentation**: Test different hyperparameters and observe how they impact your model's learning process and accuracy.\n",
        "\n",
        "## Project Structure 🗂️\n",
        "\n",
        "- **Data Preprocessing**: Learn how to prepare your data for optimal model training.\n",
        "- **Model Building**: Design a neural network architecture suitable for digit recognition.\n",
        "- **Training and Testing**: Implement the training loop, and test your model's performance.\n",
        "- **Optimization Techniques**: Apply different optimization strategies to improve your model.\n",
        "\n",
        "## TODOs 📌\n",
        "\n",
        "Throughout this notebook, you'll find `TODO` sections. These are areas where you'll need to apply what you've learned and write your own code. Don't worry, though; guidance and hints are provided to help you on your journey!\n",
        "\n",
        "So, are you ready to embark on this adventure in machine learning? Let's get started! 🚀👩‍💻👨‍💻\n",
        "\n",
        "---\n",
        "\n",
        "Remember, the goal of this project is not just to build a model but to experiment and learn. Every challenge you encounter is an opportunity to grow. Let's do this! 💪\n"
      ],
      "metadata": {
        "id": "NAsgDbOhyWgZ"
      }
    },
    {
      "cell_type": "markdown",
      "source": [
        "## Loading the MNIST Dataset 📚\n",
        "\n",
        "Before diving into the model building, the first crucial step is to load our dataset. In this section, you'll learn how to load and visualize the MNIST dataset, which is a collection of 70,000 grayscale images of handwritten digits (0 through 9). This dataset is widely used for training and testing in the field of machine learning. 🤖📈\n",
        "\n"
      ],
      "metadata": {
        "id": "ivgWP56HytSS"
      }
    },
    {
      "cell_type": "code",
      "execution_count": 2,
      "metadata": {
        "id": "r2xTBOMDx53Z"
      },
      "outputs": [],
      "source": [
        "# Import necessary libraries\n",
        "import torch # Deep learning\n",
        "from torchvision import datasets, transforms # manages datasets and applies data transformations\n",
        "from torch.utils.data import DataLoader #\n",
        "\n",
        "# TODO: Define a transform to normalize the data\n",
        "transform = transforms.Compose([\n",
        "    # TODO: Add necessary transformations\n",
        "    transforms.ToTensor(),\n",
        "    transforms.Normalize((0.5,), (0.5,))\n",
        "])\n",
        "\n",
        "# TODO: Load the MNIST dataset\n",
        "train_set = datasets.MNIST(root='./data', train=True, download=True, transform=transform)\n",
        "test_set = datasets.MNIST(root='./data', train=False, download=True, transform=transform)\n",
        "\n",
        "# TODO: Create data loaders\n",
        "train_loader = DataLoader(train_set, batch_size=64, shuffle=True)\n",
        "test_loader = DataLoader(test_set, batch_size=64, shuffle=False)\n",
        "\n",
        "\n",
        "\n"
      ]
    },
    {
      "cell_type": "code",
      "source": [
        "# TODO: Figure out how many images are in the train_set and test_set.\n",
        "\n",
        "# Determine the number of images in both datasets\n",
        "num_train_images = len(train_set)\n",
        "num_test_images = len(test_set)\n",
        "\n",
        "print(f\"Number of images in the training set: {num_train_images}\")\n",
        "print(f\"Number of images in the test set: {num_test_images}\")\n"
      ],
      "metadata": {
        "id": "w3OXyKQjy_zb",
        "colab": {
          "base_uri": "https://localhost:8080/"
        },
        "outputId": "fa37f60d-3346-4895-d2aa-085bb69fea96"
      },
      "execution_count": 3,
      "outputs": [
        {
          "output_type": "stream",
          "name": "stdout",
          "text": [
            "Number of images in the training set: 60000\n",
            "Number of images in the test set: 10000\n"
          ]
        }
      ]
    },
    {
      "cell_type": "code",
      "source": [
        "len(train_loader)*64 == num_train_images"
      ],
      "metadata": {
        "colab": {
          "base_uri": "https://localhost:8080/"
        },
        "id": "2VZAebBdtMO5",
        "outputId": "f9d3a616-8809-4ebe-fac7-bf5d2e596f27"
      },
      "execution_count": 4,
      "outputs": [
        {
          "output_type": "execute_result",
          "data": {
            "text/plain": [
              "False"
            ]
          },
          "metadata": {},
          "execution_count": 4
        }
      ]
    },
    {
      "cell_type": "code",
      "source": [
        "len(train_loader)*64"
      ],
      "metadata": {
        "colab": {
          "base_uri": "https://localhost:8080/"
        },
        "id": "-FBmNdyyt70r",
        "outputId": "2ca44f87-49a6-426c-bdc5-76e690c26fbd"
      },
      "execution_count": 5,
      "outputs": [
        {
          "output_type": "execute_result",
          "data": {
            "text/plain": [
              "60032"
            ]
          },
          "metadata": {},
          "execution_count": 5
        }
      ]
    },
    {
      "cell_type": "markdown",
      "source": [
        "## Building the Neural Network Model 🛠️\n",
        "\n",
        "Now that our dataset is ready, it's time to build the neural network model that will learn to recognize handwritten digits. In this section, you will define the architecture of your neural network.\n",
        "\n",
        "### Key Concepts:\n",
        "- **Layers**: Neural networks are composed of layers. Each layer has a specific role, like convolutional layers for feature extraction or fully connected (dense) layers for decision making.\n",
        "- **Activation Functions**: These functions introduce non-linear properties to the network, allowing it to learn more complex patterns."
      ],
      "metadata": {
        "id": "LKFfUT-ozFA7"
      }
    },
    {
      "cell_type": "code",
      "source": [
        "import torch.nn as nn\n",
        "import torch.nn.functional as F\n",
        "\n",
        "# Define a simple neural network\n",
        "class SimpleNet(nn.Module):\n",
        "    def __init__(self):\n",
        "        super(SimpleNet, self).__init__()\n",
        "        self.fc1 = nn.Linear(28*28, 128) # Input layer\n",
        "        self.fc2 = nn.Linear(128, 10)    # Hidden layer\n",
        "\n",
        "    def forward(self, x):\n",
        "        x = x.view(-1, 28*28)  # Flatten the image\n",
        "        x = F.relu(self.fc1(x)) # Activation function\n",
        "        x = self.fc2(x)         # No activation function\n",
        "        return x\n",
        "\n",
        "# Create an instance of the network\n",
        "model = SimpleNet()\n",
        "print(model)\n"
      ],
      "metadata": {
        "id": "SDoUc4dzzZMu",
        "colab": {
          "base_uri": "https://localhost:8080/"
        },
        "outputId": "d8972757-42b8-4008-909a-07587a5c6567"
      },
      "execution_count": 7,
      "outputs": [
        {
          "output_type": "stream",
          "name": "stdout",
          "text": [
            "SimpleNet(\n",
            "  (fc1): Linear(in_features=784, out_features=128, bias=True)\n",
            "  (fc2): Linear(in_features=128, out_features=10, bias=True)\n",
            ")\n"
          ]
        }
      ]
    },
    {
      "cell_type": "code",
      "source": [
        "# TODO: Define the neural network class\n",
        "class ComplexNet(nn.Module):\n",
        "    def __init__(self):\n",
        "        super(ComplexNet, self).__init__()\n",
        "        # TODO: Define layers of the neural network\n",
        "        self.fc1 = nn.Linear(28*28, 1024)\n",
        "        self.fc2 = nn.Linear(1024, 128)\n",
        "        self.fc3 = nn.Linear(128, 10)\n",
        "        self.relu = nn.ReLU()\n",
        "\n",
        "    def forward(self, x):\n",
        "        # Flatten the input tensor\n",
        "        x = x.view(-1, 28 * 28)\n",
        "        x = self.fc1(x)\n",
        "        x = self.relu(x)\n",
        "        x = self.fc2(x)\n",
        "        x = self.relu(x)\n",
        "        x = self.fc3(x)\n",
        "        x = F.log_softmax(x, dim=1)\n",
        "        return x\n",
        "\n",
        "# Create an instance of the network\n",
        "model = ComplexNet()\n",
        "print(model)"
      ],
      "metadata": {
        "colab": {
          "base_uri": "https://localhost:8080/"
        },
        "id": "98FFa5Uh1s3r",
        "outputId": "e3395215-6dd2-47de-aa56-dbd453721d96"
      },
      "execution_count": null,
      "outputs": [
        {
          "output_type": "stream",
          "name": "stdout",
          "text": [
            "ComplexNet(\n",
            "  (fc1): Linear(in_features=784, out_features=1024, bias=True)\n",
            "  (fc2): Linear(in_features=1024, out_features=128, bias=True)\n",
            "  (fc3): Linear(in_features=128, out_features=10, bias=True)\n",
            "  (relu): ReLU()\n",
            ")\n"
          ]
        }
      ]
    },
    {
      "cell_type": "markdown",
      "source": [
        "## Training the Neural Network Model 🏋️‍♀️🏋️‍♂️\n",
        "\n",
        "With our neural network model defined, the next exciting step is to train it. This process involves feeding the training data to the model and adjusting the model parameters (weights and biases) based on the computed loss and the chosen optimization algorithm.\n",
        "\n",
        "### Key Concepts:\n",
        "- **Loss Function**: Measures how well the model performs. A common choice for classification tasks is Cross-Entropy Loss.\n",
        "- **Optimizer**: Helps in updating the model parameters based on the computed gradients. We'll be using Stochastic Gradient Descent (SGD) in this example.\n",
        "- **Epochs**: One epoch means the model has seen the entire dataset once. Training for multiple epochs means going through the dataset multiple times.\n",
        "\n"
      ],
      "metadata": {
        "id": "J9VnJDBDz2QU"
      }
    },
    {
      "cell_type": "code",
      "source": [
        "from torch.optim import SGD\n",
        "\n",
        "# Loss function and optimizer\n",
        "criterion = nn.CrossEntropyLoss()\n",
        "optimizer = SGD(model.parameters(), lr=0.01)\n",
        "\n",
        "# Set the number of epochs for training\n",
        "num_epochs = 50\n",
        "\n",
        "# Lists to keep track of losses\n",
        "hist_training_loss = []\n",
        "hist_test_loss = []\n",
        "\n",
        "# Training loop\n",
        "for epoch in range(num_epochs):\n",
        "    model.train()  # Set the model to training mode\n",
        "    running_loss = 0.0\n",
        "\n",
        "    for images, labels in train_loader:\n",
        "        optimizer.zero_grad()       # Clear gradients from the previous step\n",
        "        outputs = model(images)     #compute predicted outputs\n",
        "        loss = criterion(outputs, labels)  # Calculate loss\n",
        "        loss.backward()             # compute gradient of the loss\n",
        "        optimizer.step()\n",
        "\n",
        "        running_loss += loss.item() # Update running training loss\n",
        "\n",
        "    # Print average training loss per epoch\n",
        "    avg_train_loss = running_loss / len(train_loader)\n",
        "    print(f\"Epoch {epoch+1}, Training Loss: {avg_train_loss}\")\n",
        "    hist_training_loss.append(avg_train_loss)\n",
        "\n",
        "    # Validation phase\n",
        "    model.eval()   # Set the model to evaluation mode\n",
        "    test_loss = 0.0\n",
        "\n",
        "    with torch.no_grad():  # Turn off gradients for validation\n",
        "        for images, labels in test_loader:\n",
        "            outputs = model(images)\n",
        "            tloss = criterion(outputs, labels)\n",
        "            test_loss += tloss.item()\n",
        "\n",
        "    # Print average test loss per epoch\n",
        "    avg_test_loss = test_loss / len(test_loader)\n",
        "    print(f\"Epoch {epoch+1}, Test Loss: {avg_test_loss}\")\n",
        "    hist_test_loss.append(avg_test_loss)\n",
        "\n",
        "print(\"Training is finished!\")\n"
      ],
      "metadata": {
        "id": "NqXh40htz2B6",
        "colab": {
          "base_uri": "https://localhost:8080/"
        },
        "outputId": "05d2c4eb-4420-483b-a602-5eeeae8baccf"
      },
      "execution_count": 8,
      "outputs": [
        {
          "output_type": "stream",
          "name": "stdout",
          "text": [
            "Epoch 1, Training Loss: 0.7615704075741107\n",
            "Epoch 1, Test Loss: 0.3916289760570997\n",
            "Epoch 2, Training Loss: 0.36722248870490204\n",
            "Epoch 2, Test Loss: 0.3252903165260128\n",
            "Epoch 3, Training Loss: 0.32246539970514365\n",
            "Epoch 3, Test Loss: 0.3000272411829347\n",
            "Epoch 4, Training Loss: 0.2966390156796746\n",
            "Epoch 4, Test Loss: 0.27815741351598006\n",
            "Epoch 5, Training Loss: 0.27681597510475847\n",
            "Epoch 5, Test Loss: 0.26136344262535216\n",
            "Epoch 6, Training Loss: 0.25796716067709646\n",
            "Epoch 6, Test Loss: 0.24471602655330282\n",
            "Epoch 7, Training Loss: 0.24120113648363015\n",
            "Epoch 7, Test Loss: 0.2360357135225823\n",
            "Epoch 8, Training Loss: 0.22540583374943815\n",
            "Epoch 8, Test Loss: 0.21608437247170953\n",
            "Epoch 9, Training Loss: 0.21130462857420002\n",
            "Epoch 9, Test Loss: 0.20359860950262304\n",
            "Epoch 10, Training Loss: 0.19820723159195008\n",
            "Epoch 10, Test Loss: 0.19119751017398326\n",
            "Epoch 11, Training Loss: 0.1867152378399934\n",
            "Epoch 11, Test Loss: 0.18525749172089964\n",
            "Epoch 12, Training Loss: 0.17618816197792223\n",
            "Epoch 12, Test Loss: 0.18413524746384685\n",
            "Epoch 13, Training Loss: 0.16691304702780393\n",
            "Epoch 13, Test Loss: 0.16820304012993814\n",
            "Epoch 14, Training Loss: 0.15816023783968775\n",
            "Epoch 14, Test Loss: 0.15974686666729915\n",
            "Epoch 15, Training Loss: 0.15092876662752394\n",
            "Epoch 15, Test Loss: 0.15484485207837384\n",
            "Epoch 16, Training Loss: 0.1436901956236661\n",
            "Epoch 16, Test Loss: 0.1473548629374546\n",
            "Epoch 17, Training Loss: 0.137420412174849\n",
            "Epoch 17, Test Loss: 0.14238817249513736\n",
            "Epoch 18, Training Loss: 0.13178025223195616\n",
            "Epoch 18, Test Loss: 0.1373375780972397\n",
            "Epoch 19, Training Loss: 0.12608777536655158\n",
            "Epoch 19, Test Loss: 0.13558957384080644\n",
            "Epoch 20, Training Loss: 0.12118255686578847\n",
            "Epoch 20, Test Loss: 0.1285135929701126\n",
            "Epoch 21, Training Loss: 0.1168164677703495\n",
            "Epoch 21, Test Loss: 0.12523845152982813\n",
            "Epoch 22, Training Loss: 0.1124599111844291\n",
            "Epoch 22, Test Loss: 0.12266985613372249\n",
            "Epoch 23, Training Loss: 0.10840942425283986\n",
            "Epoch 23, Test Loss: 0.11911462313661672\n",
            "Epoch 24, Training Loss: 0.10476417231883829\n",
            "Epoch 24, Test Loss: 0.11741633148074956\n",
            "Epoch 25, Training Loss: 0.1011746812548274\n",
            "Epoch 25, Test Loss: 0.11574793642885081\n",
            "Epoch 26, Training Loss: 0.09822356616502315\n",
            "Epoch 26, Test Loss: 0.11188718510026432\n",
            "Epoch 27, Training Loss: 0.0946645726070507\n",
            "Epoch 27, Test Loss: 0.11708979836848986\n",
            "Epoch 28, Training Loss: 0.09187955060588525\n",
            "Epoch 28, Test Loss: 0.10820908517321678\n",
            "Epoch 29, Training Loss: 0.08937882160199985\n",
            "Epoch 29, Test Loss: 0.10576411701329527\n",
            "Epoch 30, Training Loss: 0.08657589800425493\n",
            "Epoch 30, Test Loss: 0.10290727843782586\n",
            "Epoch 31, Training Loss: 0.08404255627410244\n",
            "Epoch 31, Test Loss: 0.1020226097097739\n",
            "Epoch 32, Training Loss: 0.081644410344917\n",
            "Epoch 32, Test Loss: 0.10349935917465526\n",
            "Epoch 33, Training Loss: 0.07932268237786443\n",
            "Epoch 33, Test Loss: 0.09770892745263543\n",
            "Epoch 34, Training Loss: 0.0770798340819077\n",
            "Epoch 34, Test Loss: 0.09878421616948145\n",
            "Epoch 35, Training Loss: 0.07520765741405361\n",
            "Epoch 35, Test Loss: 0.0961636971729766\n",
            "Epoch 36, Training Loss: 0.07332834543318732\n",
            "Epoch 36, Test Loss: 0.09576175340516552\n",
            "Epoch 37, Training Loss: 0.07148148797488194\n",
            "Epoch 37, Test Loss: 0.09478559321946328\n",
            "Epoch 38, Training Loss: 0.06941771996753619\n",
            "Epoch 38, Test Loss: 0.0935893958066679\n",
            "Epoch 39, Training Loss: 0.06813772995449872\n",
            "Epoch 39, Test Loss: 0.09091046394981966\n",
            "Epoch 40, Training Loss: 0.06661652248880978\n",
            "Epoch 40, Test Loss: 0.09157930170096884\n",
            "Epoch 41, Training Loss: 0.06499388147997402\n",
            "Epoch 41, Test Loss: 0.0887014240732381\n",
            "Epoch 42, Training Loss: 0.06342871655434021\n",
            "Epoch 42, Test Loss: 0.086400208801215\n",
            "Epoch 43, Training Loss: 0.06177304881805582\n",
            "Epoch 43, Test Loss: 0.08801871377850176\n",
            "Epoch 44, Training Loss: 0.060302089137742036\n",
            "Epoch 44, Test Loss: 0.08471036382734325\n",
            "Epoch 45, Training Loss: 0.05921667326352934\n",
            "Epoch 45, Test Loss: 0.08470602377739017\n",
            "Epoch 46, Training Loss: 0.057677098119488436\n",
            "Epoch 46, Test Loss: 0.08501544175410027\n",
            "Epoch 47, Training Loss: 0.05664000273950255\n",
            "Epoch 47, Test Loss: 0.08609484965915963\n",
            "Epoch 48, Training Loss: 0.055459753406156644\n",
            "Epoch 48, Test Loss: 0.08386965048874603\n",
            "Epoch 49, Training Loss: 0.05400623685604871\n",
            "Epoch 49, Test Loss: 0.08275712749277164\n",
            "Epoch 50, Training Loss: 0.05314196766997531\n",
            "Epoch 50, Test Loss: 0.08121459827177037\n",
            "Training is finished!\n"
          ]
        }
      ]
    },
    {
      "cell_type": "code",
      "source": [
        "# TODO: plot the model complexity graph\n",
        "import matplotlib.pyplot as plt\n",
        "import numpy as np\n",
        "\n",
        "# Plot the training and test losses\n",
        "epoch_list = np.arange(num_epochs)\n",
        "plt.plot(epoch_list, hist_training_loss, label='Training Loss')\n",
        "plt.plot(epoch_list, hist_test_loss, label='Test Loss')\n",
        "plt.xlabel('Epochs')\n",
        "plt.ylabel('Loss')\n",
        "plt.title('Training and Test Losses Over Epochs')\n",
        "plt.legend()\n",
        "plt.show()\n"
      ],
      "metadata": {
        "id": "ckEA5Ft_0gn8",
        "colab": {
          "base_uri": "https://localhost:8080/",
          "height": 472
        },
        "outputId": "a4ab2e7c-6dfc-42af-f5fe-8715656513a1"
      },
      "execution_count": 9,
      "outputs": [
        {
          "output_type": "display_data",
          "data": {
            "text/plain": [
              "<Figure size 640x480 with 1 Axes>"
            ],
            "image/png": "[encoded data removed]"
          },
          "metadata": {}
        }
      ]
    },
    {
      "cell_type": "markdown",
      "source": [
        "### TODO1: Comment the model complexity graph\n",
        "### TODO2: Change the model and add more layer (use a complex model)"
      ],
      "metadata": {
        "id": "Rh0gKqC50ST3"
      }
    },
    {
      "cell_type": "markdown",
      "source": [
        "## Implementing Early Stopping 🛑\n",
        "\n",
        "One of the key techniques in training neural networks effectively is 'Early Stopping'. This technique halts the training process if the model performance stops improving on a held-out validation set. Early stopping is a form of regularization used to avoid overfitting.\n",
        "\n",
        "### Key Concepts:\n",
        "- **Validation Loss**: Monitor the loss on a validation set to detect when it begins to increase, indicating overfitting."
      ],
      "metadata": {
        "id": "AzCT0HIA0nQf"
      }
    },
    {
      "cell_type": "code",
      "source": [
        "# TODO: Complete this code to implement Early stopping\n",
        "patience = 5\n",
        "min_delta = 0.01\n",
        "best_loss = None\n",
        "patience_counter = 0\n",
        "\n",
        "# Training loop with early stopping\n",
        "for epoch in range(num_epochs):\n",
        "    model.train()  # Set the model to training mode\n",
        "    running_loss = 0.0\n",
        "    for images, labels in train_loader:\n",
        "        # Training pass\n",
        "        optimizer.zero_grad()\n",
        "        outputs = model(images)\n",
        "        loss = criterion(outputs, labels)\n",
        "        loss.backward()  # computes gradients\n",
        "        optimizer.step()  # adjust the weights\n",
        "        running_loss += loss.item()\n",
        "\n",
        "    # Calculate average training loss\n",
        "    avg_train_loss = running_loss / len(train_loader)\n",
        "\n",
        "    # Start evaluation phase\n",
        "    model.eval()\n",
        "    validation_loss = 0.0\n",
        "    with torch.no_grad():\n",
        "        for images, labels in test_loader:\n",
        "            outputs = model(images)\n",
        "            batch_loss = criterion(outputs, labels)\n",
        "            validation_loss += batch_loss.item()\n",
        "\n",
        "    # Calculate average validation loss\n",
        "    avg_validation_loss = validation_loss / len(test_loader)\n",
        "\n",
        "    # Print training and validation loss\n",
        "    print(f\"Epoch {epoch+1}, Training Loss: {avg_train_loss}, Validation Loss: {avg_validation_loss}\")\n",
        "\n",
        "    # Check if the validation loss is improving\n",
        "    if best_loss is None or avg_validation_loss < best_loss - min_delta:\n",
        "        best_loss = avg_validation_loss\n",
        "        patience_counter = 0  # Reset patience counter if validation loss improves\n",
        "    else:\n",
        "        patience_counter += 1  # Increment patience counter if no improvement\n",
        "        if patience_counter >= patience:\n",
        "            print(\"Early stopping triggered after epoch {}\".format(epoch+1))\n",
        "            break\n",
        "\n",
        "print(\"Training is finished!\")\n"
      ],
      "metadata": {
        "id": "gDm6xmNB0mio",
        "colab": {
          "base_uri": "https://localhost:8080/"
        },
        "outputId": "a06067cd-120c-46b8-e940-9099779d213c"
      },
      "execution_count": 10,
      "outputs": [
        {
          "output_type": "stream",
          "name": "stdout",
          "text": [
            "Epoch 1, Training Loss: 0.05222758388311576, Validation Loss: 0.08430961612982758\n",
            "Epoch 2, Training Loss: 0.05082977992067459, Validation Loss: 0.08171830942652597\n",
            "Epoch 3, Training Loss: 0.049775299005039624, Validation Loss: 0.08097305489595755\n",
            "Epoch 4, Training Loss: 0.04892576257906743, Validation Loss: 0.07853462921224155\n",
            "Epoch 5, Training Loss: 0.04771886702660701, Validation Loss: 0.07922743697714499\n",
            "Epoch 6, Training Loss: 0.04668087387052394, Validation Loss: 0.0789664313204551\n",
            "Early stopping triggered after epoch 6\n",
            "Training is finished!\n"
          ]
        }
      ]
    },
    {
      "cell_type": "code",
      "source": [
        "# TODO: Answer this questions\n",
        "# What does min_delta and patience refer to ?\n",
        "#min_delta refers to the minimum change in the monitored metric which loss to qualify an improvement.\n",
        "#patience refers to the number of epochs with no improvement after which training will be stopped\n",
        "\n",
        "\n",
        "# What is different from the first training ?\n",
        "#when we compare from the first training the early stopping mechanism was triggered after the 6th epoch. This means the training was halted early because the validation loss did not improve significantly beyond min_delta.\n",
        "\n"
      ],
      "metadata": {
        "id": "BW3uWpcW1RJJ"
      },
      "execution_count": null,
      "outputs": []
    },
    {
      "cell_type": "markdown",
      "source": [
        "## Experimenting with Dropout 🌧️\n",
        "\n",
        "Dropout is a regularization technique that temporarily drops units (along with their connections) from the neural network during training. This prevents units from co-adapting too much and helps the model to generalize better to unseen data.\n",
        "\n",
        "### Key Concepts:\n",
        "- **Dropout Rate**: The probability of a neuron being dropped during training. Common rates are 0.2, 0.5, etc.\n",
        "- **Generalization**: Dropout improves the generalization of the model on the test data.\n"
      ],
      "metadata": {
        "id": "Lg47wh8z1xvj"
      }
    },
    {
      "cell_type": "code",
      "source": [
        "import torch.nn.functional as F\n",
        "\n",
        "class NetWithDropout(nn.Module):\n",
        "    def __init__(self):\n",
        "        super(NetWithDropout, self).__init__()\n",
        "        # Define layers of the neural network\n",
        "        self.fc1 = nn.Linear(28 * 28, 128)\n",
        "        self.dropout1 = nn.Dropout(0.2)  # Dropout layer with 20% probability\n",
        "        self.fc2 = nn.Linear(128, 64)\n",
        "        self.dropout2 = nn.Dropout(0.5)  # Dropout layer with 50% probability\n",
        "        self.fc3 = nn.Linear(64, 10)\n",
        "\n",
        "    def forward(self, x):\n",
        "        # Flatten the input tensor\n",
        "        x = x.view(-1, 28 * 28)\n",
        "        # Forward pass with dropout\n",
        "        x = F.relu(self.fc1(x))\n",
        "        x = self.dropout1(x)\n",
        "        x = F.relu(self.fc2(x))\n",
        "        x = self.dropout2(x)\n",
        "        x = self.fc3(x)\n",
        "        return F.log_softmax(x, dim=1)\n",
        "\n",
        "# Create an instance of the network with dropout\n",
        "model_with_dropout = NetWithDropout()\n",
        "print(model_with_dropout)\n",
        "\n",
        "# Define the loss function and optimizer\n",
        "criterion = nn.CrossEntropyLoss()\n",
        "optimizer = torch.optim.SGD(model_with_dropout.parameters(), lr=0.01)\n",
        "\n",
        "# Set the number of epochs\n",
        "num_epochs = 50\n",
        "\n",
        "# Training loop\n",
        "for epoch in range(num_epochs):\n",
        "    model_with_dropout.train()  # Set the model to training mode\n",
        "    running_loss = 0.0\n",
        "    for images, labels in train_loader:\n",
        "        optimizer.zero_grad()       # Clear gradients from the previous step\n",
        "        outputs = model_with_dropout(images)\n",
        "        loss = criterion(outputs, labels)     # Compute loss\n",
        "        loss.backward()\n",
        "        optimizer.step()            # Update the network weights\n",
        "\n",
        "        running_loss += loss.item() # Add the loss for this batch\n",
        "\n",
        "    # Print the average loss for the epoch\n",
        "    print(f\"Epoch {epoch+1}/{num_epochs}, Training Loss: {running_loss/len(train_loader)}\")\n",
        "\n",
        "print(\"Training completed\")\n"
      ],
      "metadata": {
        "id": "DjioUiV31brx",
        "colab": {
          "base_uri": "https://localhost:8080/"
        },
        "outputId": "e558f79d-603f-420b-cb82-5b104510575a"
      },
      "execution_count": 11,
      "outputs": [
        {
          "output_type": "stream",
          "name": "stdout",
          "text": [
            "NetWithDropout(\n",
            "  (fc1): Linear(in_features=784, out_features=128, bias=True)\n",
            "  (dropout1): Dropout(p=0.2, inplace=False)\n",
            "  (fc2): Linear(in_features=128, out_features=64, bias=True)\n",
            "  (dropout2): Dropout(p=0.5, inplace=False)\n",
            "  (fc3): Linear(in_features=64, out_features=10, bias=True)\n",
            ")\n",
            "Epoch 1/50, Training Loss: 1.333736461045137\n",
            "Epoch 2/50, Training Loss: 0.6415284211828765\n",
            "Epoch 3/50, Training Loss: 0.5107658432999145\n",
            "Epoch 4/50, Training Loss: 0.44671155704554716\n",
            "Epoch 5/50, Training Loss: 0.4017651455043984\n",
            "Epoch 6/50, Training Loss: 0.36854070400410116\n",
            "Epoch 7/50, Training Loss: 0.3412771712043392\n",
            "Epoch 8/50, Training Loss: 0.31728402527569455\n",
            "Epoch 9/50, Training Loss: 0.2973152441320135\n",
            "Epoch 10/50, Training Loss: 0.2838821047182276\n",
            "Epoch 11/50, Training Loss: 0.2666236607949617\n",
            "Epoch 12/50, Training Loss: 0.25184062284145403\n",
            "Epoch 13/50, Training Loss: 0.2416442569686787\n",
            "Epoch 14/50, Training Loss: 0.23143316097239822\n",
            "Epoch 15/50, Training Loss: 0.2227398355060549\n",
            "Epoch 16/50, Training Loss: 0.21678954289793206\n",
            "Epoch 17/50, Training Loss: 0.20555323545040607\n",
            "Epoch 18/50, Training Loss: 0.2028062847901636\n",
            "Epoch 19/50, Training Loss: 0.19349706520650115\n",
            "Epoch 20/50, Training Loss: 0.19065750368447829\n",
            "Epoch 21/50, Training Loss: 0.1850400719104577\n",
            "Epoch 22/50, Training Loss: 0.17801674563429756\n",
            "Epoch 23/50, Training Loss: 0.1757787329170591\n",
            "Epoch 24/50, Training Loss: 0.17147967349221585\n",
            "Epoch 25/50, Training Loss: 0.16669289490132572\n",
            "Epoch 26/50, Training Loss: 0.1639723016926125\n",
            "Epoch 27/50, Training Loss: 0.16024018165224524\n",
            "Epoch 28/50, Training Loss: 0.15516210517792434\n",
            "Epoch 29/50, Training Loss: 0.15430031009693582\n",
            "Epoch 30/50, Training Loss: 0.15160427942300148\n",
            "Epoch 31/50, Training Loss: 0.14896119636163782\n",
            "Epoch 32/50, Training Loss: 0.14636886029887491\n",
            "Epoch 33/50, Training Loss: 0.1433391645918094\n",
            "Epoch 34/50, Training Loss: 0.14241883897585972\n",
            "Epoch 35/50, Training Loss: 0.13617227275742652\n",
            "Epoch 36/50, Training Loss: 0.136767009285086\n",
            "Epoch 37/50, Training Loss: 0.13435145058254125\n",
            "Epoch 38/50, Training Loss: 0.1302607349558934\n",
            "Epoch 39/50, Training Loss: 0.13141498469443783\n",
            "Epoch 40/50, Training Loss: 0.1264539901564307\n",
            "Epoch 41/50, Training Loss: 0.12637956968264413\n",
            "Epoch 42/50, Training Loss: 0.12371590471208922\n",
            "Epoch 43/50, Training Loss: 0.12280284036308337\n",
            "Epoch 44/50, Training Loss: 0.12094509071295163\n",
            "Epoch 45/50, Training Loss: 0.11846346776388379\n",
            "Epoch 46/50, Training Loss: 0.12029551616959226\n",
            "Epoch 47/50, Training Loss: 0.11680503486137368\n",
            "Epoch 48/50, Training Loss: 0.11289559587883924\n",
            "Epoch 49/50, Training Loss: 0.11280765291501972\n",
            "Epoch 50/50, Training Loss: 0.11265049655157239\n",
            "Training completed\n"
          ]
        }
      ]
    },
    {
      "cell_type": "code",
      "source": [
        "# TODO: Train the dropout model\n",
        "# What do you notice ?\n",
        "\n",
        "# In this case we can notice that there is a decrease in the training loss over epochs and there is no early stopping triggered and we clearly see the there is an effectiveness of dropout preventing the overfitting by randomly dropping units."
      ],
      "metadata": {
        "id": "VBR_MqON15ch"
      },
      "execution_count": null,
      "outputs": []
    },
    {
      "cell_type": "markdown",
      "source": [
        "## Submitting Your Project on GitHub 🚀\n",
        "\n",
        "Submitting your project on GitHub not only allows you to showcase your work but also helps in version control and collaboration. Here's how you can do it:\n",
        "\n",
        "### Step 1: Create a New Repository on GitHub\n",
        "1. **Sign in to GitHub**: Go to [GitHub](https://github.com) and sign in with your account.\n",
        "2. **Create a New Repository**: Click on the '+' icon in the top right corner and select 'New repository'.\n",
        "3. **Name Your Repository**: Give your repository a meaningful name, like 'handwritten-digit-recognition'.\n",
        "4. **Initialize with a README**: Check the box 'Initialize this repository with a README'.\n",
        "5. **Create Repository**: Click the 'Create repository' button.\n",
        "\n",
        "### Step 2: Clone the Repository to Your Local Machine\n",
        "1. **Copy the Repository URL**: On your repository page on GitHub, click the 'Code' button and copy the URL.\n",
        "2. **Clone in Terminal**: Open your terminal, navigate to where you want the repository, and run `git clone [URL]`, replacing `[URL]` with the URL you copied.\n",
        "\n",
        "### Step 3: Add Your Project to the Repository\n",
        "1. **Copy Your Notebook**: Place your Jupyter notebook file into the cloned repository folder on your local machine.\n",
        "2. **Add the File**: Run `git add [filename]` in your terminal, replacing `[filename]` with the name of your notebook file.\n",
        "\n",
        "### Step 4: Commit and Push Your Changes\n",
        "1. **Commit Your Changes**: Run `git commit -m \"Add project notebook\"`.\n",
        "2. **Push to GitHub**: Run `git push` to push your changes to the GitHub repository.\n",
        "\n",
        "### Step 5: Create and Edit the README File\n",
        "1. **Edit README.md**: On GitHub, open the README.md file and click the pencil icon to edit.\n",
        "2. **Write Your README**: Include a project title, a brief description, installation instructions, and usage instructions. Optionally, add screenshots or additional sections as needed.\n",
        "3. **Save Changes**: After editing, commit your changes by clicking 'Commit changes' at the bottom.\n",
        "\n",
        "### 📌 TODOs for Submission:\n",
        "- Ensure your Jupyter notebook is well-commented and formatted.\n",
        "- Write a clear, concise README that effectively describes your project.\n",
        "- Double-check that all files have been committed and pushed to your GitHub repository.\n",
        "\n",
        "---\n",
        "\n",
        "Remember, a well-documented GitHub repository not only reflects your technical skills but also your ability to communicate and present your work effectively. Happy coding and best of luck with your project submission! 🌟👩‍💻👨‍💻\n"
      ],
      "metadata": {
        "id": "TaKBLDTE15Iy"
      }
    }
  ]
}